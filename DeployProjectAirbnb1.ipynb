{
 "cells": [
  {
   "cell_type": "code",
   "execution_count": 14,
   "id": "620cebc7",
   "metadata": {},
   "outputs": [],
   "source": [
    "import pandas as pd\n",
    "import streamlit as st\n",
    "import joblib\n",
    "\n",
    "x_numerics = {'latitude': 0, 'longitude': 0, 'accommodates': 0, 'bathrooms': 0, 'bedrooms': 0, 'beds': 0, 'extra_people': 0,\n",
    "               'minimum_nights': 0, 'year': 0, 'month': 0, 'n_amenities': 0, 'host_listings_count': 0, 'number_of_reviews': 0}\n",
    "\n",
    "x_tf = {'host_is_superhost': 0, 'instant_bookable': 0}\n",
    "\n",
    "x_lists = {'property_type': ['Apartment', 'Bed and breakfast', 'Condominium', 'Guest suite', 'Guesthouse', 'Hostel', 'House', 'Loft', 'Others', 'Serviced apartment'],\n",
    "            'room_type': ['Entire home/apt', 'Hotel room', 'Private room', 'Shared room'],\n",
    "            'cancellation_policy': ['flexible', 'moderate', 'strict', 'strict_14_with_grace_period']\n",
    "            }\n",
    "\n",
    "dictionary = {}\n",
    "for item in x_lists:\n",
    "    for values in x_lists[item]:\n",
    "        dictionary[f'{item}_{values}'] = 0\n",
    "\n",
    "\n",
    "for item in x_numerics:\n",
    "    if item == 'latitude' or item == 'longitude':\n",
    "        values = st.number_input(f'{item}', step=0.00001, value=0.0, format=\"%.5f\")\n",
    "    elif item == 'extra_people':\n",
    "        values = st.number_input(f'{item}', step=0.01, value=0.0)\n",
    "    else:\n",
    "        values = st.number_input(f'{item}', step=1, value=0)\n",
    "    x_numerics[item] = values\n",
    "\n",
    "for item in x_tf:\n",
    "    values = st.selectbox(f'{item}', ('Yes', 'No'))\n",
    "    if values == \"Yes\":\n",
    "        x_tf[item] = 1\n",
    "    else:\n",
    "        x_tf[item] = 0\n",
    "    \n",
    "    \n",
    "for item in x_lists:\n",
    "    values = st.selectbox(f'{item}', x_lists[item])\n",
    "    dictionary[f'{item}_{values}'] = 1\n",
    "    \n",
    "buttons = st.button('Predict it')\n",
    "\n",
    "if buttons:\n",
    "    dictionary.update(x_numerics)\n",
    "    dictionary.update(x_tf)\n",
    "    values_x = pd.DataFrame(dictionary, index=[0])\n",
    "    model = joblib.load('model.joblib')\n",
    "    price = model.predict(values_x)\n",
    "    st.write(preco[0])\n"
   ]
  },
  {
   "cell_type": "code",
   "execution_count": null,
   "id": "f51a7d76",
   "metadata": {},
   "outputs": [],
   "source": []
  }
 ],
 "metadata": {
  "kernelspec": {
   "display_name": "Python 3 (ipykernel)",
   "language": "python",
   "name": "python3"
  },
  "language_info": {
   "codemirror_mode": {
    "name": "ipython",
    "version": 3
   },
   "file_extension": ".py",
   "mimetype": "text/x-python",
   "name": "python",
   "nbconvert_exporter": "python",
   "pygments_lexer": "ipython3",
   "version": "3.10.9"
  }
 },
 "nbformat": 4,
 "nbformat_minor": 5
}
